{
 "cells": [
  {
   "cell_type": "code",
   "execution_count": 68,
   "metadata": {},
   "outputs": [],
   "source": [
    "%reset -f\n",
    "import numpy as np\n",
    "import matplotlib.pyplot as plt\n",
    "import matplotlib.gridspec as gs"
   ]
  },
  {
   "cell_type": "code",
   "execution_count": 69,
   "metadata": {},
   "outputs": [],
   "source": [
    "from pandas import read_csv "
   ]
  },
  {
   "cell_type": "code",
   "execution_count": 70,
   "metadata": {},
   "outputs": [],
   "source": [
    "Location_Data = list()\n",
    "Location_Data.append(read_csv(\"./ClayProfiles/Location1_11.5.csv\"))\n",
    "Location_Data.append(read_csv(\"./ClayProfiles/Location1_15.5.csv\"))\n",
    "Location_Data.append(read_csv(\"./ClayProfiles/Location1_19.5.csv\"))\n",
    "Location_Data.append(read_csv(\"./ClayProfiles/Location1_23.5.csv\"))\n",
    "\n",
    "#list(Location_Data[3]['percentClay'])"
   ]
  },
  {
   "cell_type": "code",
   "execution_count": 85,
   "metadata": {},
   "outputs": [
    {
     "name": "stdout",
     "output_type": "stream",
     "text": [
      "[   DEPTH  PERCLAY   STD\n",
      "0    0.5     1.71  0.22\n",
      "1    1.0     0.47  0.08,    DEPTH  PERCLAY   STD\n",
      "0    0.5     2.01  0.26\n",
      "1    1.0     0.79  0.15,    DEPTH  PERCLAY   STD\n",
      "0    0.5     0.61  0.09,    DEPTH  PERCLAY   STD\n",
      "0    0.5     0.99  0.06]\n"
     ]
    }
   ],
   "source": [
    "Lab_Data = list()\n",
    "for i in range(4):\n",
    "    fileName = \"./ClayProfiles/ExperimentalData_Loc\" + str(i+1) + \".csv\"\n",
    "    Lab_Data.append(read_csv(fileName))\n",
    "\n",
    "FixDatumLab = np.array([0.0225,0.8250,1.425,1.05]) - (1.5/2)\n",
    "print(Lab_Data)"
   ]
  },
  {
   "cell_type": "code",
   "execution_count": 93,
   "metadata": {},
   "outputs": [
    {
     "data": {
      "image/png": "[encoded data removed]",
      "text/plain": [
       "<Figure size 720x360 with 4 Axes>"
      ]
     },
     "metadata": {},
     "output_type": "display_data"
    }
   ],
   "source": [
    "fig = plt.figure(figsize=(10,5),facecolor=\"white\");\n",
    "\n",
    "ax = []\n",
    "for i in range(4):\n",
    "    ax.append(plt.subplot(1,4,i+1)) \n",
    "    percentClay = Location_Data[i]['percentClay']\n",
    "    PointY = Location_Data[i]['Points:1']\n",
    "    ax[i].plot(percentClay,PointY)\n",
    "    ax[i].set_xlim(-0.1,3.5)\n",
    "    ax[i].set_ylim(-10,1)\n",
    "    ax[i].yaxis.set_major_locator(plt.MaxNLocator(5))\n",
    "    if i > 0:\n",
    "        ax[i].get_shared_y_axes().join(ax[i], ax[i-1])\n",
    "    ax[i].set_xlabel(\"Clay fraction (%)\",fontsize=\"small\")\n",
    "    ax[i].set_title(\"Location %i\" %(i+1),fontsize=\"small\")\n",
    "\n",
    "    ax[i].scatter(Lab_Data[i]['PERCLAY'],FixDatumLab[i]-Lab_Data[i]['DEPTH'])\n",
    "    ax[i].errorbar(Lab_Data[i]['PERCLAY'],FixDatumLab[i]-Lab_Data[i]['DEPTH']\\\n",
    "                   ,xerr=Lab_Data[i]['STD'],barsabove=True,fmt=\"o\")\n",
    "\n",
    "#ax[0].errorbar(Lab_Data['LOC1'][1],FixDatumLab[0]-Lab_Data['DEPTH'][1],xerr=Lab_Data['LOC1STD'][1])\n",
    "#ax[0].scatter(Lab_Data['LOC1'][1],FixDatumLab[0]-Lab_Data['DEPTH'][1])\n",
    "\n",
    "\n",
    "fig.subplots_adjust(hspace=0,wspace=0.02)\n",
    "plt.setp([a.get_yticklabels() for a in fig.axes[1:]], visible=False)\n",
    "ax[0].set_ylabel(\"Y [cm]\",rotation=90)\n",
    "plt.show()"
   ]
  },
  {
   "cell_type": "code",
   "execution_count": null,
   "metadata": {},
   "outputs": [],
   "source": []
  }
 ],
 "metadata": {
  "kernelspec": {
   "display_name": "Python 3 (ipykernel)",
   "language": "python",
   "name": "python3"
  },
  "language_info": {
   "codemirror_mode": {
    "name": "ipython",
    "version": 3
   },
   "file_extension": ".py",
   "mimetype": "text/x-python",
   "name": "python",
   "nbconvert_exporter": "python",
   "pygments_lexer": "ipython3",
   "version": "3.8.10"
  },
  "toc": {
   "base_numbering": 1,
   "nav_menu": {},
   "number_sections": false,
   "sideBar": false,
   "skip_h1_title": false,
   "title_cell": "Table of Contents",
   "title_sidebar": "Contents",
   "toc_cell": false,
   "toc_position": {},
   "toc_section_display": false,
   "toc_window_display": false
  }
 },
 "nbformat": 4,
 "nbformat_minor": 4
}
