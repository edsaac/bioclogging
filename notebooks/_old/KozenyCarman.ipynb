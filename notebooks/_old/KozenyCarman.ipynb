{
 "cells": [
  {
   "cell_type": "markdown",
   "metadata": {},
   "source": [
    "# Kozeny-Carman equation\n",
    "\n",
    "\\begin{equation}\n",
    "    K = \\dfrac{d_p^2}{180}\\dfrac{\\theta^3}{(1-\\theta)^2} \\dfrac{\\rho g }{\\mu}\n",
    "\\end{equation}"
   ]
  },
  {
   "cell_type": "code",
   "execution_count": 1,
   "metadata": {},
   "outputs": [],
   "source": [
    "%reset -f"
   ]
  },
  {
   "cell_type": "code",
   "execution_count": 50,
   "metadata": {},
   "outputs": [],
   "source": [
    "import numpy as np\n",
    "import matplotlib.pyplot as plt\n",
    "from scipy.optimize import root\n",
    "\n",
    "#Globals\n",
    "rho = 1000.  #kg/m3\n",
    "g   = 9.81   #cm/s2\n",
    "mu  = 0.001  #Ns/m2\n",
    "dp  = 4.4E-4 #m\n",
    "\n",
    "def KozenyCarman(theta):\n",
    "    return dp**2 * theta**3 * rho * g / (180 * (1-theta)**2 * mu)\n",
    "\n",
    "def Chen2010(theta):\n",
    "    perm = 810.0*(theta)**3.1   # Original equation\n",
    "    perm = perm * 9.869233E-13         # Darcy >> m2\n",
    "    Kcon = perm * rho * g / mu  # Permeability >> Hydraulic cond.\n",
    "    return Kcon\n",
    "\n",
    "def Chen2009(theta):\n",
    "    perm = 1600.0*(theta)**3.7   # Original equation\n",
    "    perm = perm * 9.869233E-13         # Darcy >> m2\n",
    "    Kcon = perm * rho * g / mu  # Permeability >> Hydraulic cond.\n",
    "    return Kcon\n",
    "\n",
    "def findTheta(K_expected=1.0E-8):\n",
    "    \n",
    "    def minimizer(theta):\n",
    "        K_init = KozenyCarman(theta)\n",
    "        return (K_init - K_expected)**2\n",
    "    \n",
    "    solution = root(minimizer,0.1)\n",
    "    print(solution.message + f\" >> Porosity = {solution.x}\")\n",
    "    return solution.x"
   ]
  },
  {
   "cell_type": "code",
   "execution_count": 51,
   "metadata": {},
   "outputs": [],
   "source": [
    "porosity = np.linspace(0.001,0.5,100)\n",
    "hydrCond = KozenyCarman(porosity)"
   ]
  },
  {
   "cell_type": "code",
   "execution_count": 59,
   "metadata": {},
   "outputs": [
    {
     "data": {
      "image/png": "[encoded data removed]",
      "text/plain": [
       "<Figure size 576x360 with 1 Axes>"
      ]
     },
     "metadata": {},
     "output_type": "display_data"
    }
   ],
   "source": [
    "fig,ax = plt.subplots(figsize=(8,5),facecolor=\"white\");\n",
    "\n",
    "ax.plot(porosity,KozenyCarman(porosity),lw=3,c=\"blue\",label='Kozeny-Carman')\n",
    "ax.plot(porosity,Chen2010(porosity),lw=3,c=\"red\",label=\"Chen2010\")\n",
    "ax.plot(porosity,Chen2009(porosity),lw=3,c=\"pink\",label=\"Chen2009\")\n",
    "ax.axvspan(xmin=10**-0.8,xmax=10**-0.35,color='pink',alpha=0.5)\n",
    "ax.set(yscale='log',xscale='log')\n",
    "ax.set_xlabel(\"Porosity $\\\\theta$ \")\n",
    "ax.set_ylabel(\"Hydraulic conductivity \\n$K$ [m/s]\")\n",
    "ax.axhline(y=1.0E-8,lw=1,ls='dotted')\n",
    "ax.legend()\n",
    "plt.show()"
   ]
  },
  {
   "cell_type": "code",
   "execution_count": 65,
   "metadata": {},
   "outputs": [
    {
     "name": "stdout",
     "output_type": "stream",
     "text": [
      "The solution converged. >> Porosity = [0.02086702]\n"
     ]
    }
   ],
   "source": [
    "theta2 = findTheta(1.0E-7)"
   ]
  },
  {
   "cell_type": "code",
   "execution_count": 7,
   "metadata": {},
   "outputs": [
    {
     "name": "stdout",
     "output_type": "stream",
     "text": [
      "1.0707E-03 m/s\n"
     ]
    }
   ],
   "source": [
    "print(\"{:.4E} m/s\".format(KozenyCarman(0.35)))"
   ]
  },
  {
   "cell_type": "code",
   "execution_count": 8,
   "metadata": {},
   "outputs": [],
   "source": [
    "from jupypft import attachmentRateCFT"
   ]
  },
  {
   "cell_type": "code",
   "execution_count": 28,
   "metadata": {},
   "outputs": [
    {
     "name": "stdout",
     "output_type": "stream",
     "text": [
      "Diffusion coeff:  4.3654E-12\n",
      "Darcy velocity:   3.5000E-04\n",
      "Pore-water vel:   1.0000E-03\n",
      "---\n",
      "Happel parameter: 5.2527E+01\n",
      "NR number:        2.2727E-04\n",
      "NPe number:       3.5277E+04\n",
      "NvW number:       2.4305E+00\n",
      "NGr number:       3.1211E-06\n",
      "---\n",
      "etaD collector:   1.0409E-02\n",
      "etaI collector:   1.9641E-05\n",
      "etaG collector:   2.8626E-07\n",
      "eta0 collector:   1.0429E-02\n",
      "---\n",
      "Attach rate   :   1.0000E-04\n"
     ]
    }
   ],
   "source": [
    "katt,_ = attachmentRateCFT.attachmentRate(dp=1.0E-7,dc=4.4E-4,\n",
    "    q=0.35E-3,\n",
    "    theta=0.35,\n",
    "    visco=0.001,\n",
    "    rho_f=1000.,\n",
    "    rho_p=1050.0,\n",
    "    A=1.0E-20,\n",
    "    T=298.0,\n",
    "    alpha=0.0043273861959162,\n",
    "    debug=True)"
   ]
  },
  {
   "cell_type": "code",
   "execution_count": 31,
   "metadata": {},
   "outputs": [
    {
     "data": {
      "text/plain": [
       "'4.327386E-03'"
      ]
     },
     "execution_count": 31,
     "metadata": {},
     "output_type": "execute_result"
    }
   ],
   "source": [
    "\"{:.6E}\".format(0.0043273861959162)"
   ]
  },
  {
   "cell_type": "code",
   "execution_count": 30,
   "metadata": {},
   "outputs": [
    {
     "data": {
      "text/plain": [
       "1.0000000000000002"
      ]
     },
     "execution_count": 30,
     "metadata": {},
     "output_type": "execute_result"
    }
   ],
   "source": [
    "1.0E-4/katt"
   ]
  },
  {
   "cell_type": "code",
   "execution_count": null,
   "metadata": {},
   "outputs": [],
   "source": []
  }
 ],
 "metadata": {
  "kernelspec": {
   "display_name": "Python 3 (ipykernel)",
   "language": "python",
   "name": "python3"
  },
  "language_info": {
   "codemirror_mode": {
    "name": "ipython",
    "version": 3
   },
   "file_extension": ".py",
   "mimetype": "text/x-python",
   "name": "python",
   "nbconvert_exporter": "python",
   "pygments_lexer": "ipython3",
   "version": "3.8.10"
  },
  "toc": {
   "base_numbering": 1,
   "nav_menu": {},
   "number_sections": false,
   "sideBar": false,
   "skip_h1_title": false,
   "title_cell": "Table of Contents",
   "title_sidebar": "Contents",
   "toc_cell": false,
   "toc_position": {},
   "toc_section_display": false,
   "toc_window_display": false
  }
 },
 "nbformat": 4,
 "nbformat_minor": 4
}
