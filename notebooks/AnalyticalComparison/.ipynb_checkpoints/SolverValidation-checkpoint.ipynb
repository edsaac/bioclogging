{
 "cells": [
  {
   "cell_type": "code",
   "execution_count": 42,
   "id": "8698ae5a-c242-48bb-a0ad-71010051af87",
   "metadata": {},
   "outputs": [],
   "source": [
    "%reset -f"
   ]
  },
  {
   "cell_type": "code",
   "execution_count": 43,
   "id": "c6ccd6b2-4bf0-4f40-b9f7-4fa92713cbce",
   "metadata": {},
   "outputs": [],
   "source": [
    "import numpy as np\n",
    "import pandas as pd\n",
    "import matplotlib.pyplot as plt\n",
    "import os"
   ]
  },
  {
   "cell_type": "code",
   "execution_count": 50,
   "id": "420dc07e-d8e6-470d-bf86-154c8e875cbd",
   "metadata": {},
   "outputs": [],
   "source": [
    "openFoamResults = os.listdir(\"Results_OF\")"
   ]
  },
  {
   "cell_type": "code",
   "execution_count": 52,
   "id": "50e1907f-8da4-476c-aa8c-07149af04978",
   "metadata": {},
   "outputs": [],
   "source": [
    "openFoamResults"
   ]
  },
  {
   "cell_type": "code",
   "execution_count": 2,
   "id": "b092b81c-b84e-40df-a628-268abc560cb3",
   "metadata": {},
   "outputs": [],
   "source": [
    "path = r\"CFITIM/R11.csv\"\n",
    "analytical = pd.read_csv(path)"
   ]
  },
  {
   "cell_type": "code",
   "execution_count": 20,
   "id": "d676cf13-d029-4b4f-9cfd-babaefdab915",
   "metadata": {},
   "outputs": [],
   "source": [
    "analytical.rename(columns={'Time':'t','Concentration':'C'},inplace=True)"
   ]
  },
  {
   "cell_type": "code",
   "execution_count": 21,
   "id": "8a651790-3e9f-48f3-9b3b-e406772ece6b",
   "metadata": {},
   "outputs": [
    {
     "data": {
      "text/html": [
       "<div>\n",
       "<style scoped>\n",
       "    .dataframe tbody tr th:only-of-type {\n",
       "        vertical-align: middle;\n",
       "    }\n",
       "\n",
       "    .dataframe tbody tr th {\n",
       "        vertical-align: top;\n",
       "    }\n",
       "\n",
       "    .dataframe thead th {\n",
       "        text-align: right;\n",
       "    }\n",
       "</style>\n",
       "<table border=\"1\" class=\"dataframe\">\n",
       "  <thead>\n",
       "    <tr style=\"text-align: right;\">\n",
       "      <th></th>\n",
       "      <th>t</th>\n",
       "      <th>C</th>\n",
       "    </tr>\n",
       "  </thead>\n",
       "  <tbody>\n",
       "    <tr>\n",
       "      <th>0</th>\n",
       "      <td>0.00</td>\n",
       "      <td>0.0000</td>\n",
       "    </tr>\n",
       "    <tr>\n",
       "      <th>1</th>\n",
       "      <td>0.05</td>\n",
       "      <td>0.0000</td>\n",
       "    </tr>\n",
       "    <tr>\n",
       "      <th>2</th>\n",
       "      <td>0.10</td>\n",
       "      <td>0.0000</td>\n",
       "    </tr>\n",
       "    <tr>\n",
       "      <th>3</th>\n",
       "      <td>0.15</td>\n",
       "      <td>0.0000</td>\n",
       "    </tr>\n",
       "    <tr>\n",
       "      <th>4</th>\n",
       "      <td>0.20</td>\n",
       "      <td>0.0000</td>\n",
       "    </tr>\n",
       "    <tr>\n",
       "      <th>...</th>\n",
       "      <td>...</td>\n",
       "      <td>...</td>\n",
       "    </tr>\n",
       "    <tr>\n",
       "      <th>115</th>\n",
       "      <td>5.75</td>\n",
       "      <td>0.0601</td>\n",
       "    </tr>\n",
       "    <tr>\n",
       "      <th>116</th>\n",
       "      <td>5.80</td>\n",
       "      <td>0.0599</td>\n",
       "    </tr>\n",
       "    <tr>\n",
       "      <th>117</th>\n",
       "      <td>5.85</td>\n",
       "      <td>0.0597</td>\n",
       "    </tr>\n",
       "    <tr>\n",
       "      <th>118</th>\n",
       "      <td>5.90</td>\n",
       "      <td>0.0596</td>\n",
       "    </tr>\n",
       "    <tr>\n",
       "      <th>119</th>\n",
       "      <td>5.95</td>\n",
       "      <td>0.0594</td>\n",
       "    </tr>\n",
       "  </tbody>\n",
       "</table>\n",
       "<p>120 rows × 2 columns</p>\n",
       "</div>"
      ],
      "text/plain": [
       "        t       C\n",
       "0    0.00  0.0000\n",
       "1    0.05  0.0000\n",
       "2    0.10  0.0000\n",
       "3    0.15  0.0000\n",
       "4    0.20  0.0000\n",
       "..    ...     ...\n",
       "115  5.75  0.0601\n",
       "116  5.80  0.0599\n",
       "117  5.85  0.0597\n",
       "118  5.90  0.0596\n",
       "119  5.95  0.0594\n",
       "\n",
       "[120 rows x 2 columns]"
      ]
     },
     "execution_count": 21,
     "metadata": {},
     "output_type": "execute_result"
    }
   ],
   "source": [
    "analytical"
   ]
  },
  {
   "cell_type": "code",
   "execution_count": 10,
   "id": "76a367f9-b976-46fb-9d73-ded01b3ff02c",
   "metadata": {},
   "outputs": [],
   "source": [
    "path = r\"Results_OF/resultCase01.Foam\"\n",
    "modeled = pd.read_csv(path,header=None,names=['Time','Concentration'])"
   ]
  },
  {
   "cell_type": "code",
   "execution_count": 24,
   "id": "dcb84c2d-fdc9-4389-bfa4-fbccced4b032",
   "metadata": {},
   "outputs": [],
   "source": [
    "lenght = 1.00\n",
    "porosity = 0.35\n",
    "darcyVel = 0.35E-4\n",
    "initConc = 1.0\n",
    "\n",
    "modeled['t'] = ( modeled['Time'] * darcyVel ) / (lenght * porosity)\n",
    "modeled['C'] = modeled['Concentration'] / initConc"
   ]
  },
  {
   "cell_type": "code",
   "execution_count": 25,
   "id": "be0314c0-45ab-4bd0-b238-4aeb69b92084",
   "metadata": {},
   "outputs": [
    {
     "data": {
      "text/html": [
       "<div>\n",
       "<style scoped>\n",
       "    .dataframe tbody tr th:only-of-type {\n",
       "        vertical-align: middle;\n",
       "    }\n",
       "\n",
       "    .dataframe tbody tr th {\n",
       "        vertical-align: top;\n",
       "    }\n",
       "\n",
       "    .dataframe thead th {\n",
       "        text-align: right;\n",
       "    }\n",
       "</style>\n",
       "<table border=\"1\" class=\"dataframe\">\n",
       "  <thead>\n",
       "    <tr style=\"text-align: right;\">\n",
       "      <th></th>\n",
       "      <th>Time</th>\n",
       "      <th>Concentration</th>\n",
       "      <th>t</th>\n",
       "      <th>C</th>\n",
       "    </tr>\n",
       "  </thead>\n",
       "  <tbody>\n",
       "    <tr>\n",
       "      <th>0</th>\n",
       "      <td>285.7</td>\n",
       "      <td>6.109260e-12</td>\n",
       "      <td>0.02857</td>\n",
       "      <td>6.109260e-12</td>\n",
       "    </tr>\n",
       "    <tr>\n",
       "      <th>1</th>\n",
       "      <td>571.4</td>\n",
       "      <td>1.127040e-10</td>\n",
       "      <td>0.05714</td>\n",
       "      <td>1.127040e-10</td>\n",
       "    </tr>\n",
       "    <tr>\n",
       "      <th>2</th>\n",
       "      <td>857.1</td>\n",
       "      <td>1.077260e-09</td>\n",
       "      <td>0.08571</td>\n",
       "      <td>1.077260e-09</td>\n",
       "    </tr>\n",
       "    <tr>\n",
       "      <th>3</th>\n",
       "      <td>1142.8</td>\n",
       "      <td>7.098890e-09</td>\n",
       "      <td>0.11428</td>\n",
       "      <td>7.098890e-09</td>\n",
       "    </tr>\n",
       "    <tr>\n",
       "      <th>4</th>\n",
       "      <td>1428.5</td>\n",
       "      <td>3.621820e-08</td>\n",
       "      <td>0.14285</td>\n",
       "      <td>3.621820e-08</td>\n",
       "    </tr>\n",
       "    <tr>\n",
       "      <th>...</th>\n",
       "      <td>...</td>\n",
       "      <td>...</td>\n",
       "      <td>...</td>\n",
       "      <td>...</td>\n",
       "    </tr>\n",
       "    <tr>\n",
       "      <th>205</th>\n",
       "      <td>58854.2</td>\n",
       "      <td>5.949140e-02</td>\n",
       "      <td>5.88542</td>\n",
       "      <td>5.949140e-02</td>\n",
       "    </tr>\n",
       "    <tr>\n",
       "      <th>206</th>\n",
       "      <td>59139.9</td>\n",
       "      <td>5.940110e-02</td>\n",
       "      <td>5.91399</td>\n",
       "      <td>5.940110e-02</td>\n",
       "    </tr>\n",
       "    <tr>\n",
       "      <th>207</th>\n",
       "      <td>59425.6</td>\n",
       "      <td>5.931100e-02</td>\n",
       "      <td>5.94256</td>\n",
       "      <td>5.931100e-02</td>\n",
       "    </tr>\n",
       "    <tr>\n",
       "      <th>208</th>\n",
       "      <td>59711.3</td>\n",
       "      <td>5.922100e-02</td>\n",
       "      <td>5.97113</td>\n",
       "      <td>5.922100e-02</td>\n",
       "    </tr>\n",
       "    <tr>\n",
       "      <th>209</th>\n",
       "      <td>59997.0</td>\n",
       "      <td>5.913100e-02</td>\n",
       "      <td>5.99970</td>\n",
       "      <td>5.913100e-02</td>\n",
       "    </tr>\n",
       "  </tbody>\n",
       "</table>\n",
       "<p>210 rows × 4 columns</p>\n",
       "</div>"
      ],
      "text/plain": [
       "        Time  Concentration        t             C\n",
       "0      285.7   6.109260e-12  0.02857  6.109260e-12\n",
       "1      571.4   1.127040e-10  0.05714  1.127040e-10\n",
       "2      857.1   1.077260e-09  0.08571  1.077260e-09\n",
       "3     1142.8   7.098890e-09  0.11428  7.098890e-09\n",
       "4     1428.5   3.621820e-08  0.14285  3.621820e-08\n",
       "..       ...            ...      ...           ...\n",
       "205  58854.2   5.949140e-02  5.88542  5.949140e-02\n",
       "206  59139.9   5.940110e-02  5.91399  5.940110e-02\n",
       "207  59425.6   5.931100e-02  5.94256  5.931100e-02\n",
       "208  59711.3   5.922100e-02  5.97113  5.922100e-02\n",
       "209  59997.0   5.913100e-02  5.99970  5.913100e-02\n",
       "\n",
       "[210 rows x 4 columns]"
      ]
     },
     "execution_count": 25,
     "metadata": {},
     "output_type": "execute_result"
    }
   ],
   "source": [
    "modeled"
   ]
  },
  {
   "cell_type": "code",
   "execution_count": 40,
   "id": "edfca5eb-bbca-4604-bd27-b4fd4d41c5ba",
   "metadata": {},
   "outputs": [
    {
     "data": {
      "image/png": "[encoded data removed]",
      "text/plain": [
       "<Figure size 360x576 with 2 Axes>"
      ]
     },
     "metadata": {},
     "output_type": "display_data"
    }
   ],
   "source": [
    "fig,axs = plt.subplots(2,1,figsize=[5,8],facecolor='white',sharex=True)\n",
    "## Linear\n",
    "ax = axs[0]\n",
    "ax.plot(modeled['t'],modeled['C'],c='r',alpha=0.5,lw=3)\n",
    "ax.plot(analytical['t'],analytical['C'],alpha=0.5,c='k')\n",
    "\n",
    "## Log\n",
    "ax = axs[1]\n",
    "ax.plot(modeled['t'],modeled['C'],c='r',alpha=0.5,lw=3)\n",
    "ax.plot(analytical['t'],analytical['C'],c='k')\n",
    "ax.set_yscale(\"symlog\",linthresh=1.0E-6,subs=[1,2,3,4,5,6,7,8,9])\n",
    "ax.set_ylim([-1.0E-7,1.15])\n",
    "plt.show()"
   ]
  },
  {
   "cell_type": "code",
   "execution_count": null,
   "id": "8d626dcd-c87f-4752-9ab9-893b008aef1f",
   "metadata": {},
   "outputs": [],
   "source": []
  }
 ],
 "metadata": {
  "kernelspec": {
   "display_name": "Python 3 (ipykernel)",
   "language": "python",
   "name": "python3"
  },
  "language_info": {
   "codemirror_mode": {
    "name": "ipython",
    "version": 3
   },
   "file_extension": ".py",
   "mimetype": "text/x-python",
   "name": "python",
   "nbconvert_exporter": "python",
   "pygments_lexer": "ipython3",
   "version": "3.8.10"
  }
 },
 "nbformat": 4,
 "nbformat_minor": 5
}
